{
 "cells": [
  {
   "cell_type": "markdown",
   "metadata": {},
   "source": [
    "**Imports**"
   ]
  },
  {
   "cell_type": "code",
   "execution_count": 31,
   "metadata": {},
   "outputs": [],
   "source": [
    "# OS utilities\n",
    "import os\n",
    "\n",
    "# Data handling\n",
    "import numpy as np\n",
    "import pandas as pd\n",
    "\n",
    "# Visualization\n",
    "import matplotlib.pyplot as plt\n",
    "import seaborn as sns\n",
    "\n",
    "# Data analysis\n",
    "from collections import Counter\n",
    "from itertools import combinations"
   ]
  },
  {
   "cell_type": "markdown",
   "metadata": {},
   "source": [
    "**Data Loading**"
   ]
  },
  {
   "cell_type": "code",
   "execution_count": 4,
   "metadata": {},
   "outputs": [],
   "source": [
    "data_path = \"/media/SSD_2TB/imageclef2025/imageclef2025/development_concept_detection\""
   ]
  },
  {
   "cell_type": "code",
   "execution_count": 5,
   "metadata": {},
   "outputs": [],
   "source": [
    "train_concepts = pd.read_csv(os.path.join(data_path, 'train_concepts.csv'))\n",
    "valid_concepts = pd.read_csv(os.path.join(data_path, 'valid_concepts.csv'))"
   ]
  },
  {
   "cell_type": "code",
   "execution_count": 6,
   "metadata": {},
   "outputs": [
    {
     "name": "stdout",
     "output_type": "stream",
     "text": [
      "\n",
      "Initial dataset sizes for the concept detection task:\n",
      "  - Training set: 80091 samples\n",
      "  - Validation set: 17277 samples\n"
     ]
    }
   ],
   "source": [
    "print(f\"\\nInitial dataset sizes for the concept detection task:\")  \n",
    "print(f\"  - Training set: {len(train_concepts)} samples\")  \n",
    "print(f\"  - Validation set: {len(valid_concepts)} samples\")  "
   ]
  },
  {
   "cell_type": "code",
   "execution_count": 7,
   "metadata": {},
   "outputs": [],
   "source": [
    "concepts_dataset = pd.concat([train_concepts, valid_concepts]).reset_index(drop=True)"
   ]
  },
  {
   "cell_type": "code",
   "execution_count": 8,
   "metadata": {},
   "outputs": [
    {
     "name": "stdout",
     "output_type": "stream",
     "text": [
      "\n",
      "Combined dataset size for the concept detection task:\n",
      "  - Training + Validation set: 97368 samples\n"
     ]
    }
   ],
   "source": [
    "print(f\"\\nCombined dataset size for the concept detection task:\")  \n",
    "print(f\"  - Training + Validation set: {len(concepts_dataset)} samples\")  "
   ]
  },
  {
   "cell_type": "markdown",
   "metadata": {},
   "source": [
    "**1) Dataset Inspection**"
   ]
  },
  {
   "cell_type": "code",
   "execution_count": 10,
   "metadata": {},
   "outputs": [
    {
     "data": {
      "text/html": [
       "<div>\n",
       "<style scoped>\n",
       "    .dataframe tbody tr th:only-of-type {\n",
       "        vertical-align: middle;\n",
       "    }\n",
       "\n",
       "    .dataframe tbody tr th {\n",
       "        vertical-align: top;\n",
       "    }\n",
       "\n",
       "    .dataframe thead th {\n",
       "        text-align: right;\n",
       "    }\n",
       "</style>\n",
       "<table border=\"1\" class=\"dataframe\">\n",
       "  <thead>\n",
       "    <tr style=\"text-align: right;\">\n",
       "      <th></th>\n",
       "      <th>ImageCLEFmedical 2025 ID</th>\n",
       "      <th>Cuis</th>\n",
       "    </tr>\n",
       "  </thead>\n",
       "  <tbody>\n",
       "    <tr>\n",
       "      <th>0</th>\n",
       "      <td>ImageCLEFmedical_Caption_2025_train_0</td>\n",
       "      <td>C0040405</td>\n",
       "    </tr>\n",
       "    <tr>\n",
       "      <th>1</th>\n",
       "      <td>ImageCLEFmedical_Caption_2025_train_1</td>\n",
       "      <td>C1306645;C0817096;C0442800;C0018787;C0242073</td>\n",
       "    </tr>\n",
       "    <tr>\n",
       "      <th>2</th>\n",
       "      <td>ImageCLEFmedical_Caption_2025_train_2</td>\n",
       "      <td>C0040405;C0856747</td>\n",
       "    </tr>\n",
       "    <tr>\n",
       "      <th>3</th>\n",
       "      <td>ImageCLEFmedical_Caption_2025_train_3</td>\n",
       "      <td>C0041618</td>\n",
       "    </tr>\n",
       "    <tr>\n",
       "      <th>4</th>\n",
       "      <td>ImageCLEFmedical_Caption_2025_train_4</td>\n",
       "      <td>C0040405;C0040053</td>\n",
       "    </tr>\n",
       "  </tbody>\n",
       "</table>\n",
       "</div>"
      ],
      "text/plain": [
       "                ImageCLEFmedical 2025 ID  \\\n",
       "0  ImageCLEFmedical_Caption_2025_train_0   \n",
       "1  ImageCLEFmedical_Caption_2025_train_1   \n",
       "2  ImageCLEFmedical_Caption_2025_train_2   \n",
       "3  ImageCLEFmedical_Caption_2025_train_3   \n",
       "4  ImageCLEFmedical_Caption_2025_train_4   \n",
       "\n",
       "                                           Cuis  \n",
       "0                                      C0040405  \n",
       "1  C1306645;C0817096;C0442800;C0018787;C0242073  \n",
       "2                             C0040405;C0856747  \n",
       "3                                      C0041618  \n",
       "4                             C0040405;C0040053  "
      ]
     },
     "execution_count": 10,
     "metadata": {},
     "output_type": "execute_result"
    }
   ],
   "source": [
    "concepts_dataset.head()"
   ]
  },
  {
   "cell_type": "code",
   "execution_count": 11,
   "metadata": {},
   "outputs": [
    {
     "name": "stdout",
     "output_type": "stream",
     "text": [
      "<class 'pandas.core.frame.DataFrame'>\n",
      "RangeIndex: 97368 entries, 0 to 97367\n",
      "Data columns (total 2 columns):\n",
      " #   Column                    Non-Null Count  Dtype \n",
      "---  ------                    --------------  ----- \n",
      " 0   ImageCLEFmedical 2025 ID  97368 non-null  object\n",
      " 1   Cuis                      97368 non-null  object\n",
      "dtypes: object(2)\n",
      "memory usage: 1.5+ MB\n"
     ]
    }
   ],
   "source": [
    "concepts_dataset.info()"
   ]
  },
  {
   "cell_type": "markdown",
   "metadata": {},
   "source": [
    "**2) Most Common Tags**"
   ]
  },
  {
   "cell_type": "code",
   "execution_count": 12,
   "metadata": {},
   "outputs": [
    {
     "name": "stdout",
     "output_type": "stream",
     "text": [
      "Total unique CUIs: 2479\n"
     ]
    }
   ],
   "source": [
    "concepts_dataset[\"Cuis List\"] = concepts_dataset[\"Cuis\"].str.split(\";\")\n",
    "\n",
    "all_cuis = [cui for sublist in concepts_dataset[\"Cuis List\"] for cui in sublist]\n",
    "cui_counts = Counter(all_cuis)\n",
    "\n",
    "print(f\"Total unique CUIs: {len(cui_counts)}\")"
   ]
  },
  {
   "cell_type": "code",
   "execution_count": 30,
   "metadata": {},
   "outputs": [
    {
     "data": {
      "image/png": "[encoded data removed]",
      "text/plain": [
       "<Figure size 1000x600 with 1 Axes>"
      ]
     },
     "metadata": {},
     "output_type": "display_data"
    }
   ],
   "source": [
    "top_cuis = cui_counts.most_common(10)\n",
    "top_cui_labels, top_cui_values = zip(*top_cuis)\n",
    "\n",
    "plt.figure(figsize=(10, 6))\n",
    "\n",
    "ax = sns.barplot(x=top_cui_values, y=top_cui_labels)\n",
    "\n",
    "for i, value in enumerate(top_cui_values):\n",
    "    ax.text(value + max(top_cui_values) * 0.01, i, str(value), va='center')\n",
    "\n",
    "plt.xlabel(\"Count\")\n",
    "plt.ylabel(\"CUI\")\n",
    "plt.title(\"Top 10 Most Frequent CUIs\")\n",
    "\n",
    "plt.show()"
   ]
  },
  {
   "cell_type": "markdown",
   "metadata": {},
   "source": [
    "**3) CUIs per Image Distribution**"
   ]
  },
  {
   "cell_type": "code",
   "execution_count": 26,
   "metadata": {},
   "outputs": [
    {
     "data": {
      "image/png": "[encoded data removed]",
      "text/plain": [
       "<Figure size 600x500 with 1 Axes>"
      ]
     },
     "metadata": {},
     "output_type": "display_data"
    }
   ],
   "source": [
    "concepts_dataset[\"Num Cuis\"] = concepts_dataset[\"Cuis List\"].apply(len)\n",
    "\n",
    "plt.figure(figsize=(6, 5)) \n",
    "\n",
    "plt.hist(concepts_dataset[\"Num Cuis\"], bins=np.arange(0, 27) - 0.5, color='royalblue', edgecolor='black', alpha=0.8)\n",
    "\n",
    "plt.yscale('log')\n",
    "\n",
    "plt.xlabel(\"# of tags per Image\")\n",
    "plt.ylabel(\"# of images\")\n",
    "plt.title(\"Distribution of CUIs per Image\")\n",
    "\n",
    "plt.show()"
   ]
  },
  {
   "cell_type": "markdown",
   "metadata": {},
   "source": [
    "**4) CUI Co-Occurence Analysis**"
   ]
  },
  {
   "cell_type": "code",
   "execution_count": null,
   "metadata": {},
   "outputs": [
    {
     "data": {
      "text/html": [
       "<div>\n",
       "<style scoped>\n",
       "    .dataframe tbody tr th:only-of-type {\n",
       "        vertical-align: middle;\n",
       "    }\n",
       "\n",
       "    .dataframe tbody tr th {\n",
       "        vertical-align: top;\n",
       "    }\n",
       "\n",
       "    .dataframe thead th {\n",
       "        text-align: right;\n",
       "    }\n",
       "</style>\n",
       "<table border=\"1\" class=\"dataframe\">\n",
       "  <thead>\n",
       "    <tr style=\"text-align: right;\">\n",
       "      <th></th>\n",
       "      <th>CUI_Pair</th>\n",
       "      <th>Count</th>\n",
       "    </tr>\n",
       "  </thead>\n",
       "  <tbody>\n",
       "    <tr>\n",
       "      <th>0</th>\n",
       "      <td>(C1306645, C0817096)</td>\n",
       "      <td>9297</td>\n",
       "    </tr>\n",
       "    <tr>\n",
       "      <th>338</th>\n",
       "      <td>(C1306645, C0037303)</td>\n",
       "      <td>4572</td>\n",
       "    </tr>\n",
       "    <tr>\n",
       "      <th>285</th>\n",
       "      <td>(C1306645, C0023216)</td>\n",
       "      <td>3848</td>\n",
       "    </tr>\n",
       "    <tr>\n",
       "      <th>12</th>\n",
       "      <td>(C0040405, C0817096)</td>\n",
       "      <td>2937</td>\n",
       "    </tr>\n",
       "    <tr>\n",
       "      <th>196</th>\n",
       "      <td>(C1306645, C0000726)</td>\n",
       "      <td>2922</td>\n",
       "    </tr>\n",
       "    <tr>\n",
       "      <th>21</th>\n",
       "      <td>(C1306645, C0030797)</td>\n",
       "      <td>2074</td>\n",
       "    </tr>\n",
       "    <tr>\n",
       "      <th>140</th>\n",
       "      <td>(C0040405, C0000726)</td>\n",
       "      <td>2061</td>\n",
       "    </tr>\n",
       "    <tr>\n",
       "      <th>656</th>\n",
       "      <td>(C1306645, C1140618)</td>\n",
       "      <td>1836</td>\n",
       "    </tr>\n",
       "    <tr>\n",
       "      <th>39</th>\n",
       "      <td>(C0040405, C0030797)</td>\n",
       "      <td>1753</td>\n",
       "    </tr>\n",
       "    <tr>\n",
       "      <th>295</th>\n",
       "      <td>(C1306645, C0037949)</td>\n",
       "      <td>1662</td>\n",
       "    </tr>\n",
       "  </tbody>\n",
       "</table>\n",
       "</div>"
      ],
      "text/plain": [
       "                 CUI_Pair  Count\n",
       "0    (C1306645, C0817096)   9297\n",
       "338  (C1306645, C0037303)   4572\n",
       "285  (C1306645, C0023216)   3848\n",
       "12   (C0040405, C0817096)   2937\n",
       "196  (C1306645, C0000726)   2922\n",
       "21   (C1306645, C0030797)   2074\n",
       "140  (C0040405, C0000726)   2061\n",
       "656  (C1306645, C1140618)   1836\n",
       "39   (C0040405, C0030797)   1753\n",
       "295  (C1306645, C0037949)   1662"
      ]
     },
     "execution_count": 20,
     "metadata": {},
     "output_type": "execute_result"
    }
   ],
   "source": [
    "cui_pairs = Counter()\n",
    "for cuis in concepts_dataset[\"Cuis List\"]:\n",
    "    for pair in combinations(cuis, 2): \n",
    "        cui_pairs[pair] += 1\n",
    "\n",
    "cui_matrix = pd.DataFrame(cui_pairs.items(), columns=[\"CUI Pair\", \"Count\"])\n",
    "cui_matrix.sort_values(by=\"Count\", ascending=False).head(10)"
   ]
  },
  {
   "cell_type": "code",
   "execution_count": 21,
   "metadata": {},
   "outputs": [
    {
     "data": {
      "text/html": [
       "<div>\n",
       "<style scoped>\n",
       "    .dataframe tbody tr th:only-of-type {\n",
       "        vertical-align: middle;\n",
       "    }\n",
       "\n",
       "    .dataframe tbody tr th {\n",
       "        vertical-align: top;\n",
       "    }\n",
       "\n",
       "    .dataframe thead th {\n",
       "        text-align: right;\n",
       "    }\n",
       "</style>\n",
       "<table border=\"1\" class=\"dataframe\">\n",
       "  <thead>\n",
       "    <tr style=\"text-align: right;\">\n",
       "      <th></th>\n",
       "      <th>CUI Pair</th>\n",
       "      <th>Count</th>\n",
       "    </tr>\n",
       "  </thead>\n",
       "  <tbody>\n",
       "    <tr>\n",
       "      <th>693</th>\n",
       "      <td>(C1306645, C0817096, C0032227)</td>\n",
       "      <td>645</td>\n",
       "    </tr>\n",
       "    <tr>\n",
       "      <th>3446</th>\n",
       "      <td>(C0040405, C0000726, C0030797)</td>\n",
       "      <td>643</td>\n",
       "    </tr>\n",
       "    <tr>\n",
       "      <th>943</th>\n",
       "      <td>(C1306645, C0037303, C0024687)</td>\n",
       "      <td>605</td>\n",
       "    </tr>\n",
       "    <tr>\n",
       "      <th>2069</th>\n",
       "      <td>(C1306645, C0023216, C0015811)</td>\n",
       "      <td>432</td>\n",
       "    </tr>\n",
       "    <tr>\n",
       "      <th>1</th>\n",
       "      <td>(C1306645, C0817096, C0018787)</td>\n",
       "      <td>425</td>\n",
       "    </tr>\n",
       "    <tr>\n",
       "      <th>468</th>\n",
       "      <td>(C1306645, C0817096, C0032326)</td>\n",
       "      <td>383</td>\n",
       "    </tr>\n",
       "    <tr>\n",
       "      <th>3396</th>\n",
       "      <td>(C1306645, C0037303, C0011443)</td>\n",
       "      <td>361</td>\n",
       "    </tr>\n",
       "    <tr>\n",
       "      <th>463</th>\n",
       "      <td>(C1306645, C0817096, C1383860)</td>\n",
       "      <td>341</td>\n",
       "    </tr>\n",
       "    <tr>\n",
       "      <th>1900</th>\n",
       "      <td>(C1306645, C0817096, C0225759)</td>\n",
       "      <td>326</td>\n",
       "    </tr>\n",
       "    <tr>\n",
       "      <th>939</th>\n",
       "      <td>(C1306645, C0037303, C0024947)</td>\n",
       "      <td>312</td>\n",
       "    </tr>\n",
       "  </tbody>\n",
       "</table>\n",
       "</div>"
      ],
      "text/plain": [
       "                            CUI Pair  Count\n",
       "693   (C1306645, C0817096, C0032227)    645\n",
       "3446  (C0040405, C0000726, C0030797)    643\n",
       "943   (C1306645, C0037303, C0024687)    605\n",
       "2069  (C1306645, C0023216, C0015811)    432\n",
       "1     (C1306645, C0817096, C0018787)    425\n",
       "468   (C1306645, C0817096, C0032326)    383\n",
       "3396  (C1306645, C0037303, C0011443)    361\n",
       "463   (C1306645, C0817096, C1383860)    341\n",
       "1900  (C1306645, C0817096, C0225759)    326\n",
       "939   (C1306645, C0037303, C0024947)    312"
      ]
     },
     "execution_count": 21,
     "metadata": {},
     "output_type": "execute_result"
    }
   ],
   "source": [
    "cui_pairs = Counter()\n",
    "for cuis in concepts_dataset[\"Cuis List\"]:\n",
    "    for pair in combinations(cuis, 3): \n",
    "        cui_pairs[pair] += 1\n",
    "\n",
    "cui_matrix = pd.DataFrame(cui_pairs.items(), columns=[\"CUI Pair\", \"Count\"])\n",
    "cui_matrix.sort_values(by=\"Count\", ascending=False).head(10)"
   ]
  },
  {
   "cell_type": "markdown",
   "metadata": {},
   "source": [
    "**5) Long-Tail Distribution**"
   ]
  },
  {
   "cell_type": "code",
   "execution_count": 27,
   "metadata": {},
   "outputs": [
    {
     "data": {
      "image/png": "[encoded data removed]",
      "text/plain": [
       "<Figure size 600x500 with 1 Axes>"
      ]
     },
     "metadata": {},
     "output_type": "display_data"
    }
   ],
   "source": [
    "cui_occurrences = pd.Series(all_cuis).value_counts() \n",
    "\n",
    "sorted_occurrences = cui_occurrences.sort_values(ascending=False).values\n",
    "\n",
    "plt.figure(figsize=(6, 5))\n",
    "plt.plot(sorted_occurrences, marker='o', linestyle='none', markersize=2, color='royalblue')\n",
    "\n",
    "plt.yscale('log')\n",
    "\n",
    "plt.xlabel(\"Class index\")\n",
    "plt.ylabel(\"# of appearances\")\n",
    "plt.title(\"Long-Tail Distribution of Concepts\")\n",
    "\n",
    "plt.show()"
   ]
  }
 ],
 "metadata": {
  "kernelspec": {
   "display_name": "myenv",
   "language": "python",
   "name": "python3"
  },
  "language_info": {
   "codemirror_mode": {
    "name": "ipython",
    "version": 3
   },
   "file_extension": ".py",
   "mimetype": "text/x-python",
   "name": "python",
   "nbconvert_exporter": "python",
   "pygments_lexer": "ipython3",
   "version": "3.10.13"
  }
 },
 "nbformat": 4,
 "nbformat_minor": 2
}
